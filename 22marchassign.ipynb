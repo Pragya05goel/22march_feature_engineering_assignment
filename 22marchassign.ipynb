{
 "cells": [
  {
   "cell_type": "markdown",
   "id": "2db8ed0f-9c06-4e4a-82de-f60e6d65bdcc",
   "metadata": {},
   "source": [
    "# **ASSIGNMENT**"
   ]
  },
  {
   "cell_type": "markdown",
   "id": "f75378f0-f9d6-43a2-9a9e-5ec071ba1005",
   "metadata": {},
   "source": [
    "**Q1. Pearson correlation coefficient is a measure of the linear relationship between two variables. Suppose\n",
    "you have collected data on the amount of time students spend studying for an exam and their final exam\n",
    "scores. Calculate the Pearson correlation coefficient between these two variables and interpret the result.**"
   ]
  },
  {
   "cell_type": "code",
   "execution_count": 1,
   "id": "22946847-c27c-429d-8e58-2b0be8cbc010",
   "metadata": {},
   "outputs": [
    {
     "data": {
      "text/html": [
       "<div>\n",
       "<style scoped>\n",
       "    .dataframe tbody tr th:only-of-type {\n",
       "        vertical-align: middle;\n",
       "    }\n",
       "\n",
       "    .dataframe tbody tr th {\n",
       "        vertical-align: top;\n",
       "    }\n",
       "\n",
       "    .dataframe thead th {\n",
       "        text-align: right;\n",
       "    }\n",
       "</style>\n",
       "<table border=\"1\" class=\"dataframe\">\n",
       "  <thead>\n",
       "    <tr style=\"text-align: right;\">\n",
       "      <th></th>\n",
       "      <th>No. of hours studied</th>\n",
       "      <th>Scores in Exam</th>\n",
       "    </tr>\n",
       "  </thead>\n",
       "  <tbody>\n",
       "    <tr>\n",
       "      <th>0</th>\n",
       "      <td>10</td>\n",
       "      <td>80</td>\n",
       "    </tr>\n",
       "    <tr>\n",
       "      <th>1</th>\n",
       "      <td>2</td>\n",
       "      <td>30</td>\n",
       "    </tr>\n",
       "    <tr>\n",
       "      <th>2</th>\n",
       "      <td>5</td>\n",
       "      <td>50</td>\n",
       "    </tr>\n",
       "    <tr>\n",
       "      <th>3</th>\n",
       "      <td>7</td>\n",
       "      <td>70</td>\n",
       "    </tr>\n",
       "    <tr>\n",
       "      <th>4</th>\n",
       "      <td>6</td>\n",
       "      <td>60</td>\n",
       "    </tr>\n",
       "    <tr>\n",
       "      <th>5</th>\n",
       "      <td>12</td>\n",
       "      <td>90</td>\n",
       "    </tr>\n",
       "    <tr>\n",
       "      <th>6</th>\n",
       "      <td>13</td>\n",
       "      <td>98</td>\n",
       "    </tr>\n",
       "  </tbody>\n",
       "</table>\n",
       "</div>"
      ],
      "text/plain": [
       "   No. of hours studied  Scores in Exam\n",
       "0                    10              80\n",
       "1                     2              30\n",
       "2                     5              50\n",
       "3                     7              70\n",
       "4                     6              60\n",
       "5                    12              90\n",
       "6                    13              98"
      ]
     },
     "execution_count": 1,
     "metadata": {},
     "output_type": "execute_result"
    }
   ],
   "source": [
    "import pandas as pd\n",
    "data_set=pd.DataFrame(data={\"No. of hours studied\":[10,2,5,7,6,12,13],\"Scores in Exam\":[80,30,50,70,60,90,98]})\n",
    "data_set"
   ]
  },
  {
   "cell_type": "code",
   "execution_count": 2,
   "id": "1ca23c68-51a5-445b-a34d-5ebab0f21c88",
   "metadata": {},
   "outputs": [
    {
     "data": {
      "text/html": [
       "<div>\n",
       "<style scoped>\n",
       "    .dataframe tbody tr th:only-of-type {\n",
       "        vertical-align: middle;\n",
       "    }\n",
       "\n",
       "    .dataframe tbody tr th {\n",
       "        vertical-align: top;\n",
       "    }\n",
       "\n",
       "    .dataframe thead th {\n",
       "        text-align: right;\n",
       "    }\n",
       "</style>\n",
       "<table border=\"1\" class=\"dataframe\">\n",
       "  <thead>\n",
       "    <tr style=\"text-align: right;\">\n",
       "      <th></th>\n",
       "      <th>No. of hours studied</th>\n",
       "      <th>Scores in Exam</th>\n",
       "    </tr>\n",
       "  </thead>\n",
       "  <tbody>\n",
       "    <tr>\n",
       "      <th>No. of hours studied</th>\n",
       "      <td>1.000000</td>\n",
       "      <td>0.988395</td>\n",
       "    </tr>\n",
       "    <tr>\n",
       "      <th>Scores in Exam</th>\n",
       "      <td>0.988395</td>\n",
       "      <td>1.000000</td>\n",
       "    </tr>\n",
       "  </tbody>\n",
       "</table>\n",
       "</div>"
      ],
      "text/plain": [
       "                      No. of hours studied  Scores in Exam\n",
       "No. of hours studied              1.000000        0.988395\n",
       "Scores in Exam                    0.988395        1.000000"
      ]
     },
     "execution_count": 2,
     "metadata": {},
     "output_type": "execute_result"
    }
   ],
   "source": [
    "data_set.corr(method=\"pearson\")"
   ]
  },
  {
   "cell_type": "markdown",
   "id": "517f7df8-f750-4fee-b79b-b08950d2c054",
   "metadata": {},
   "source": [
    "Interpreting the result, we can see that the Pearson correlation coefficient between the number of hours studied and the scores in the exam is 0.988395, which indicates a strong positive linear relationship between these two variables. This suggests that as the number of hours studied increases, the scores in the exam also tend to increase."
   ]
  },
  {
   "cell_type": "markdown",
   "id": "15324025-ef89-4d60-99f2-82fe686d2e50",
   "metadata": {},
   "source": [
    "**Q2. Spearman's rank correlation is a measure of the monotonic relationship between two variables.\n",
    "Suppose you have collected data on the amount of sleep individuals get each night and their overall job\n",
    "satisfaction level on a scale of 1 to 10. Calculate the Spearman's rank correlation between these two\n",
    "variables and interpret the result.**"
   ]
  },
  {
   "cell_type": "code",
   "execution_count": 3,
   "id": "2ab550ed-c15f-4871-80e2-a43b8617c487",
   "metadata": {},
   "outputs": [
    {
     "data": {
      "text/html": [
       "<div>\n",
       "<style scoped>\n",
       "    .dataframe tbody tr th:only-of-type {\n",
       "        vertical-align: middle;\n",
       "    }\n",
       "\n",
       "    .dataframe tbody tr th {\n",
       "        vertical-align: top;\n",
       "    }\n",
       "\n",
       "    .dataframe thead th {\n",
       "        text-align: right;\n",
       "    }\n",
       "</style>\n",
       "<table border=\"1\" class=\"dataframe\">\n",
       "  <thead>\n",
       "    <tr style=\"text-align: right;\">\n",
       "      <th></th>\n",
       "      <th>Amount of Sleep (hours)</th>\n",
       "      <th>Job Satisfaction (Scale 1-10)</th>\n",
       "    </tr>\n",
       "  </thead>\n",
       "  <tbody>\n",
       "    <tr>\n",
       "      <th>0</th>\n",
       "      <td>6.5</td>\n",
       "      <td>7</td>\n",
       "    </tr>\n",
       "    <tr>\n",
       "      <th>1</th>\n",
       "      <td>7.2</td>\n",
       "      <td>6</td>\n",
       "    </tr>\n",
       "    <tr>\n",
       "      <th>2</th>\n",
       "      <td>5.8</td>\n",
       "      <td>5</td>\n",
       "    </tr>\n",
       "    <tr>\n",
       "      <th>3</th>\n",
       "      <td>8.1</td>\n",
       "      <td>8</td>\n",
       "    </tr>\n",
       "    <tr>\n",
       "      <th>4</th>\n",
       "      <td>6.9</td>\n",
       "      <td>6</td>\n",
       "    </tr>\n",
       "    <tr>\n",
       "      <th>5</th>\n",
       "      <td>7.5</td>\n",
       "      <td>7</td>\n",
       "    </tr>\n",
       "    <tr>\n",
       "      <th>6</th>\n",
       "      <td>5.5</td>\n",
       "      <td>4</td>\n",
       "    </tr>\n",
       "    <tr>\n",
       "      <th>7</th>\n",
       "      <td>8.3</td>\n",
       "      <td>9</td>\n",
       "    </tr>\n",
       "    <tr>\n",
       "      <th>8</th>\n",
       "      <td>7.8</td>\n",
       "      <td>8</td>\n",
       "    </tr>\n",
       "  </tbody>\n",
       "</table>\n",
       "</div>"
      ],
      "text/plain": [
       "   Amount of Sleep (hours)  Job Satisfaction (Scale 1-10)\n",
       "0                      6.5                              7\n",
       "1                      7.2                              6\n",
       "2                      5.8                              5\n",
       "3                      8.1                              8\n",
       "4                      6.9                              6\n",
       "5                      7.5                              7\n",
       "6                      5.5                              4\n",
       "7                      8.3                              9\n",
       "8                      7.8                              8"
      ]
     },
     "execution_count": 3,
     "metadata": {},
     "output_type": "execute_result"
    }
   ],
   "source": [
    "dataset_job=pd.DataFrame({\"Amount of Sleep (hours)\":[6.5,7.2,5.8,8.1,6.9,7.5,5.5,8.3,7.8],\n",
    "                          \"Job Satisfaction (Scale 1-10)\":[7,6,5,8,6,7,4,9,8]})            \n",
    "dataset_job"
   ]
  },
  {
   "cell_type": "code",
   "execution_count": 4,
   "id": "f2cdabc1-6c47-44e7-bec6-ee23e4a9f9f0",
   "metadata": {},
   "outputs": [
    {
     "data": {
      "text/html": [
       "<div>\n",
       "<style scoped>\n",
       "    .dataframe tbody tr th:only-of-type {\n",
       "        vertical-align: middle;\n",
       "    }\n",
       "\n",
       "    .dataframe tbody tr th {\n",
       "        vertical-align: top;\n",
       "    }\n",
       "\n",
       "    .dataframe thead th {\n",
       "        text-align: right;\n",
       "    }\n",
       "</style>\n",
       "<table border=\"1\" class=\"dataframe\">\n",
       "  <thead>\n",
       "    <tr style=\"text-align: right;\">\n",
       "      <th></th>\n",
       "      <th>Amount of Sleep (hours)</th>\n",
       "      <th>Job Satisfaction (Scale 1-10)</th>\n",
       "    </tr>\n",
       "  </thead>\n",
       "  <tbody>\n",
       "    <tr>\n",
       "      <th>Amount of Sleep (hours)</th>\n",
       "      <td>1.000000</td>\n",
       "      <td>0.919905</td>\n",
       "    </tr>\n",
       "    <tr>\n",
       "      <th>Job Satisfaction (Scale 1-10)</th>\n",
       "      <td>0.919905</td>\n",
       "      <td>1.000000</td>\n",
       "    </tr>\n",
       "  </tbody>\n",
       "</table>\n",
       "</div>"
      ],
      "text/plain": [
       "                               Amount of Sleep (hours)  \\\n",
       "Amount of Sleep (hours)                       1.000000   \n",
       "Job Satisfaction (Scale 1-10)                 0.919905   \n",
       "\n",
       "                               Job Satisfaction (Scale 1-10)  \n",
       "Amount of Sleep (hours)                             0.919905  \n",
       "Job Satisfaction (Scale 1-10)                       1.000000  "
      ]
     },
     "execution_count": 4,
     "metadata": {},
     "output_type": "execute_result"
    }
   ],
   "source": [
    "dataset_job.corr(method=\"spearman\")"
   ]
  },
  {
   "cell_type": "markdown",
   "id": "39c7c3ef-3aa7-4e5d-9472-7d259a20ab47",
   "metadata": {},
   "source": [
    "Interpreting the result, we can see that the Spearman's rank correlation coefficient between the amount of sleep individuals get each night and their overall job satisfaction level is 0.919905. This indicates a moderately strong positive monotonic relationship between these two variables. Therefore, as the amount of sleep increases, the job satisfaction level tends to increase as well. It is important to note that Spearman's rank correlation measures the monotonic relationship and not the linearity of the data."
   ]
  },
  {
   "cell_type": "markdown",
   "id": "d138928b-a13e-4ff9-afc7-d714c0603acb",
   "metadata": {},
   "source": [
    "**Q3. Suppose you are conducting a study to examine the relationship between the number of hours of\n",
    "exercise per week and body mass index (BMI) in a sample of adults. You collected data on both variables\n",
    "for 50 participants. Calculate the Pearson correlation coefficient and the Spearman's rank correlation\n",
    "between these two variables and compare the results.**"
   ]
  },
  {
   "cell_type": "code",
   "execution_count": 5,
   "id": "ffe6e48c-cf59-4a1c-88a1-5102139126de",
   "metadata": {},
   "outputs": [
    {
     "data": {
      "text/html": [
       "<div>\n",
       "<style scoped>\n",
       "    .dataframe tbody tr th:only-of-type {\n",
       "        vertical-align: middle;\n",
       "    }\n",
       "\n",
       "    .dataframe tbody tr th {\n",
       "        vertical-align: top;\n",
       "    }\n",
       "\n",
       "    .dataframe thead th {\n",
       "        text-align: right;\n",
       "    }\n",
       "</style>\n",
       "<table border=\"1\" class=\"dataframe\">\n",
       "  <thead>\n",
       "    <tr style=\"text-align: right;\">\n",
       "      <th></th>\n",
       "      <th>Exercise (hours per week)</th>\n",
       "      <th>BMI</th>\n",
       "    </tr>\n",
       "  </thead>\n",
       "  <tbody>\n",
       "    <tr>\n",
       "      <th>0</th>\n",
       "      <td>4.5</td>\n",
       "      <td>23.5</td>\n",
       "    </tr>\n",
       "    <tr>\n",
       "      <th>1</th>\n",
       "      <td>3.2</td>\n",
       "      <td>25.1</td>\n",
       "    </tr>\n",
       "    <tr>\n",
       "      <th>2</th>\n",
       "      <td>6.8</td>\n",
       "      <td>27.3</td>\n",
       "    </tr>\n",
       "    <tr>\n",
       "      <th>3</th>\n",
       "      <td>2.1</td>\n",
       "      <td>30.9</td>\n",
       "    </tr>\n",
       "    <tr>\n",
       "      <th>4</th>\n",
       "      <td>5.5</td>\n",
       "      <td>22.8</td>\n",
       "    </tr>\n",
       "  </tbody>\n",
       "</table>\n",
       "</div>"
      ],
      "text/plain": [
       "   Exercise (hours per week)   BMI\n",
       "0                        4.5  23.5\n",
       "1                        3.2  25.1\n",
       "2                        6.8  27.3\n",
       "3                        2.1  30.9\n",
       "4                        5.5  22.8"
      ]
     },
     "execution_count": 5,
     "metadata": {},
     "output_type": "execute_result"
    }
   ],
   "source": [
    "import pandas as pd\n",
    "\n",
    "data = {\n",
    "    'Exercise (hours per week)': [4.5, 3.2, 6.8, 2.1, 5.5, 1.7, 3.9, 2.3, 7.2, 4.8,\n",
    "                                  3.5, 6.1, 2.9, 5.3, 1.5, 4.2, 2.7, 6.5, 3.8, 7.4,\n",
    "                                  4.1, 3.0, 5.1, 1.9, 4.9, 2.5, 6.9, 3.7, 7.8, 4.4,\n",
    "                                  3.3, 6.7, 2.0, 5.6, 1.8, 4.0, 2.8, 7.1, 3.6, 5.2,\n",
    "                                  1.6, 4.3, 2.6, 6.3, 3.4, 5.9, 2.4, 7.3, 4.7,4.9],\n",
    "    'BMI': [23.5, 25.1, 27.3, 30.9, 22.8, 29.4, 26.5, 31.2, 25.3, 23.9,\n",
    "            27.8, 24.6, 29.1, 22.2, 30.6, 26.9, 30.3, 24.8, 27.1, 25.7,\n",
    "            23.4, 29.7, 22.9, 31.5, 25.5, 27.6, 24.1, 28.9, 23.1, 26.7,\n",
    "            30.0, 25.1, 28.3, 23.2, 31.0, 26.3, 30.5, 24.9, 27.2, 22.5,\n",
    "            29.2, 24.7, 28.8, 23.3, 30.2, 25.6, 31.3, 26.0,27.0,28.0],\n",
    "}\n",
    "\n",
    "dataset_body = pd.DataFrame(data)\n",
    "dataset_body.head()"
   ]
  },
  {
   "cell_type": "code",
   "execution_count": 6,
   "id": "4ec009ac-4790-405e-80ff-6c6dca130cee",
   "metadata": {},
   "outputs": [
    {
     "data": {
      "text/html": [
       "<div>\n",
       "<style scoped>\n",
       "    .dataframe tbody tr th:only-of-type {\n",
       "        vertical-align: middle;\n",
       "    }\n",
       "\n",
       "    .dataframe tbody tr th {\n",
       "        vertical-align: top;\n",
       "    }\n",
       "\n",
       "    .dataframe thead th {\n",
       "        text-align: right;\n",
       "    }\n",
       "</style>\n",
       "<table border=\"1\" class=\"dataframe\">\n",
       "  <thead>\n",
       "    <tr style=\"text-align: right;\">\n",
       "      <th></th>\n",
       "      <th>Exercise (hours per week)</th>\n",
       "      <th>BMI</th>\n",
       "    </tr>\n",
       "  </thead>\n",
       "  <tbody>\n",
       "    <tr>\n",
       "      <th>Exercise (hours per week)</th>\n",
       "      <td>1.000000</td>\n",
       "      <td>-0.749178</td>\n",
       "    </tr>\n",
       "    <tr>\n",
       "      <th>BMI</th>\n",
       "      <td>-0.749178</td>\n",
       "      <td>1.000000</td>\n",
       "    </tr>\n",
       "  </tbody>\n",
       "</table>\n",
       "</div>"
      ],
      "text/plain": [
       "                           Exercise (hours per week)       BMI\n",
       "Exercise (hours per week)                   1.000000 -0.749178\n",
       "BMI                                        -0.749178  1.000000"
      ]
     },
     "execution_count": 6,
     "metadata": {},
     "output_type": "execute_result"
    }
   ],
   "source": [
    "dataset_body.corr(method=\"pearson\")"
   ]
  },
  {
   "cell_type": "code",
   "execution_count": 7,
   "id": "763f1285-dd1a-49b5-9cd9-32a53fd8bec4",
   "metadata": {},
   "outputs": [
    {
     "data": {
      "text/html": [
       "<div>\n",
       "<style scoped>\n",
       "    .dataframe tbody tr th:only-of-type {\n",
       "        vertical-align: middle;\n",
       "    }\n",
       "\n",
       "    .dataframe tbody tr th {\n",
       "        vertical-align: top;\n",
       "    }\n",
       "\n",
       "    .dataframe thead th {\n",
       "        text-align: right;\n",
       "    }\n",
       "</style>\n",
       "<table border=\"1\" class=\"dataframe\">\n",
       "  <thead>\n",
       "    <tr style=\"text-align: right;\">\n",
       "      <th></th>\n",
       "      <th>Exercise (hours per week)</th>\n",
       "      <th>BMI</th>\n",
       "    </tr>\n",
       "  </thead>\n",
       "  <tbody>\n",
       "    <tr>\n",
       "      <th>Exercise (hours per week)</th>\n",
       "      <td>1.000000</td>\n",
       "      <td>-0.777372</td>\n",
       "    </tr>\n",
       "    <tr>\n",
       "      <th>BMI</th>\n",
       "      <td>-0.777372</td>\n",
       "      <td>1.000000</td>\n",
       "    </tr>\n",
       "  </tbody>\n",
       "</table>\n",
       "</div>"
      ],
      "text/plain": [
       "                           Exercise (hours per week)       BMI\n",
       "Exercise (hours per week)                   1.000000 -0.777372\n",
       "BMI                                        -0.777372  1.000000"
      ]
     },
     "execution_count": 7,
     "metadata": {},
     "output_type": "execute_result"
    }
   ],
   "source": [
    "dataset_body.corr(method=\"spearman\")"
   ]
  },
  {
   "cell_type": "markdown",
   "id": "922f5ba4-8117-4bd9-ba89-56605b593fbe",
   "metadata": {},
   "source": [
    "Certainly! Let's compare the results of the Pearson correlation coefficient and Spearman's rank correlation for the relationship between the number of hours of exercise per week and body mass index (BMI) in the given dataset.\n",
    "\n",
    "Assuming you have already calculated the correlations, let's say:\n",
    "\n",
    "Pearson correlation coefficient: -0.749178\n",
    "Spearman's rank correlation: -0.777372\n",
    "\n",
    "Based on these results:\n",
    "\n",
    "1. Pearson correlation coefficient: The value of -0.749178 suggests a moderately strong negative linear relationship between the number of hours of exercise per week and BMI. It indicates that as the number of hours of exercise increases, the BMI tends to decrease. However, since the value is less than 1, the relationship is not perfectly linear.\n",
    "\n",
    "2. Spearman's rank correlation: The value of -0.777372 suggests a moderately strong negative monotonic relationship between the variables. It indicates that as the number of hours of exercise increases, there is a tendency for the BMI to decrease. The Spearman's rank correlation captures the overall trend between the variables, regardless of the exact shape of the relationship.\n",
    "\n",
    "Comparing the results:\n",
    "\n",
    "Both the Pearson correlation coefficient and Spearman's rank correlation indicate a negative relationship between the number of hours of exercise per week and BMI. However, the Pearson correlation coefficient (-0.749178) reflects the linear relationship, while the Spearman's rank correlation -0.777372 captures the general monotonic trend between the variables.\n",
    "\n",
    "In conclusion, the analysis suggests that there is a negative relationship between the number of hours of exercise per week and BMI in the given dataset. The strength of the relationship is moderately strong according to both the Pearson correlation coefficient and Spearman's rank correlation."
   ]
  },
  {
   "cell_type": "markdown",
   "id": "fc460976-94ed-49b1-a628-5df050e77bd7",
   "metadata": {},
   "source": [
    "**Q4. A researcher is interested in examining the relationship between the number of hours individuals\n",
    "spend watching television per day and their level of physical activity. The researcher collected data on\n",
    "both variables from a sample of 50 participants. Calculate the Pearson correlation coefficient between\n",
    "these two variables.**"
   ]
  },
  {
   "cell_type": "code",
   "execution_count": 8,
   "id": "4fe435af-5075-410e-a1f7-88656780aa24",
   "metadata": {},
   "outputs": [
    {
     "data": {
      "text/html": [
       "<div>\n",
       "<style scoped>\n",
       "    .dataframe tbody tr th:only-of-type {\n",
       "        vertical-align: middle;\n",
       "    }\n",
       "\n",
       "    .dataframe tbody tr th {\n",
       "        vertical-align: top;\n",
       "    }\n",
       "\n",
       "    .dataframe thead th {\n",
       "        text-align: right;\n",
       "    }\n",
       "</style>\n",
       "<table border=\"1\" class=\"dataframe\">\n",
       "  <thead>\n",
       "    <tr style=\"text-align: right;\">\n",
       "      <th></th>\n",
       "      <th>TV Hours per Day</th>\n",
       "      <th>Physical Activity Level</th>\n",
       "    </tr>\n",
       "  </thead>\n",
       "  <tbody>\n",
       "    <tr>\n",
       "      <th>0</th>\n",
       "      <td>2.5</td>\n",
       "      <td>4</td>\n",
       "    </tr>\n",
       "    <tr>\n",
       "      <th>1</th>\n",
       "      <td>1.8</td>\n",
       "      <td>6</td>\n",
       "    </tr>\n",
       "    <tr>\n",
       "      <th>2</th>\n",
       "      <td>3.2</td>\n",
       "      <td>2</td>\n",
       "    </tr>\n",
       "    <tr>\n",
       "      <th>3</th>\n",
       "      <td>4.0</td>\n",
       "      <td>1</td>\n",
       "    </tr>\n",
       "    <tr>\n",
       "      <th>4</th>\n",
       "      <td>2.1</td>\n",
       "      <td>5</td>\n",
       "    </tr>\n",
       "  </tbody>\n",
       "</table>\n",
       "</div>"
      ],
      "text/plain": [
       "   TV Hours per Day  Physical Activity Level\n",
       "0               2.5                        4\n",
       "1               1.8                        6\n",
       "2               3.2                        2\n",
       "3               4.0                        1\n",
       "4               2.1                        5"
      ]
     },
     "execution_count": 8,
     "metadata": {},
     "output_type": "execute_result"
    }
   ],
   "source": [
    "import pandas as pd\n",
    "\n",
    "data = {\n",
    "    'TV Hours per Day': [2.5, 1.8, 3.2, 4.0, 2.1, 3.5, 1.2, 2.9, 3.8, 2.7,\n",
    "                         1.5, 2.3, 4.5, 1.7, 3.1, 2.6, 1.9, 3.7, 2.4, 1.6,\n",
    "                         2.8, 3.4, 1.3, 2.2, 4.1, 2.0, 3.6, 1.4, 3.3, 2.5,\n",
    "                         4.2, 1.1, 2.7, 3.9, 2.3, 3.8, 1.5, 2.9, 4.0, 2.1,\n",
    "                         3.5, 1.2, 2.6, 3.4, 2.0, 3.6, 1.3, 2.2, 3.9, 2.4],\n",
    "    'Physical Activity Level': [4, 6, 2, 1, 5, 3, 7, 4, 2, 5,\n",
    "                                6, 4, 1, 5, 3, 6, 7, 2, 4, 6,\n",
    "                                3, 5, 7, 4, 2, 5, 3, 6, 1, 4,\n",
    "                                2, 5, 6, 3, 4, 2, 7, 5, 3, 1,\n",
    "                                4, 6, 2, 3, 5, 1, 4, 2, 5, 3],\n",
    "}\n",
    "\n",
    "dataset_researcher = pd.DataFrame(data)\n",
    "dataset_researcher.head()"
   ]
  },
  {
   "cell_type": "code",
   "execution_count": 9,
   "id": "a722786a-164f-47ec-9a93-bc4bc7a0d67f",
   "metadata": {},
   "outputs": [
    {
     "data": {
      "text/html": [
       "<div>\n",
       "<style scoped>\n",
       "    .dataframe tbody tr th:only-of-type {\n",
       "        vertical-align: middle;\n",
       "    }\n",
       "\n",
       "    .dataframe tbody tr th {\n",
       "        vertical-align: top;\n",
       "    }\n",
       "\n",
       "    .dataframe thead th {\n",
       "        text-align: right;\n",
       "    }\n",
       "</style>\n",
       "<table border=\"1\" class=\"dataframe\">\n",
       "  <thead>\n",
       "    <tr style=\"text-align: right;\">\n",
       "      <th></th>\n",
       "      <th>TV Hours per Day</th>\n",
       "      <th>Physical Activity Level</th>\n",
       "    </tr>\n",
       "  </thead>\n",
       "  <tbody>\n",
       "    <tr>\n",
       "      <th>TV Hours per Day</th>\n",
       "      <td>1.000000</td>\n",
       "      <td>-0.704162</td>\n",
       "    </tr>\n",
       "    <tr>\n",
       "      <th>Physical Activity Level</th>\n",
       "      <td>-0.704162</td>\n",
       "      <td>1.000000</td>\n",
       "    </tr>\n",
       "  </tbody>\n",
       "</table>\n",
       "</div>"
      ],
      "text/plain": [
       "                         TV Hours per Day  Physical Activity Level\n",
       "TV Hours per Day                 1.000000                -0.704162\n",
       "Physical Activity Level         -0.704162                 1.000000"
      ]
     },
     "execution_count": 9,
     "metadata": {},
     "output_type": "execute_result"
    }
   ],
   "source": [
    "dataset_researcher.corr(method=\"pearson\")"
   ]
  },
  {
   "cell_type": "markdown",
   "id": "ad0b557d-07c0-42af-95ab-9788df60746b",
   "metadata": {},
   "source": [
    "**Q5 is incomplete in Assignment**"
   ]
  },
  {
   "cell_type": "markdown",
   "id": "65298f33-ccfa-422f-a36c-dae71150014f",
   "metadata": {},
   "source": [
    "**Q6. A company is interested in examining the relationship between the number of sales calls made per day\n",
    "and the number of sales made per week. The company collected data on both variables from a sample of\n",
    "30 sales representatives. Calculate the Pearson correlation coefficient between these two variables.**"
   ]
  },
  {
   "cell_type": "code",
   "execution_count": 10,
   "id": "07ad716a-4c40-4c3a-94a9-a6c92449986f",
   "metadata": {},
   "outputs": [
    {
     "data": {
      "text/html": [
       "<div>\n",
       "<style scoped>\n",
       "    .dataframe tbody tr th:only-of-type {\n",
       "        vertical-align: middle;\n",
       "    }\n",
       "\n",
       "    .dataframe tbody tr th {\n",
       "        vertical-align: top;\n",
       "    }\n",
       "\n",
       "    .dataframe thead th {\n",
       "        text-align: right;\n",
       "    }\n",
       "</style>\n",
       "<table border=\"1\" class=\"dataframe\">\n",
       "  <thead>\n",
       "    <tr style=\"text-align: right;\">\n",
       "      <th></th>\n",
       "      <th>Sales Calls per Day</th>\n",
       "      <th>Sales per Week</th>\n",
       "    </tr>\n",
       "  </thead>\n",
       "  <tbody>\n",
       "    <tr>\n",
       "      <th>0</th>\n",
       "      <td>25</td>\n",
       "      <td>12</td>\n",
       "    </tr>\n",
       "    <tr>\n",
       "      <th>1</th>\n",
       "      <td>30</td>\n",
       "      <td>15</td>\n",
       "    </tr>\n",
       "    <tr>\n",
       "      <th>2</th>\n",
       "      <td>20</td>\n",
       "      <td>9</td>\n",
       "    </tr>\n",
       "    <tr>\n",
       "      <th>3</th>\n",
       "      <td>35</td>\n",
       "      <td>18</td>\n",
       "    </tr>\n",
       "    <tr>\n",
       "      <th>4</th>\n",
       "      <td>28</td>\n",
       "      <td>14</td>\n",
       "    </tr>\n",
       "  </tbody>\n",
       "</table>\n",
       "</div>"
      ],
      "text/plain": [
       "   Sales Calls per Day  Sales per Week\n",
       "0                   25              12\n",
       "1                   30              15\n",
       "2                   20               9\n",
       "3                   35              18\n",
       "4                   28              14"
      ]
     },
     "execution_count": 10,
     "metadata": {},
     "output_type": "execute_result"
    }
   ],
   "source": [
    "import pandas as pd\n",
    "\n",
    "data = {\n",
    "    'Sales Calls per Day': [25, 30, 20, 35, 28, 22, 27, 31, 24, 29,\n",
    "                            26, 23, 32, 21, 27, 30, 25, 34, 22, 29,\n",
    "                            28, 31, 19, 26, 33, 24, 29, 23, 27, 30],\n",
    "    'Sales per Week': [12, 15, 9, 18, 14, 10, 13, 16, 11, 15,\n",
    "                       12, 10, 17, 9, 13, 15, 12, 19, 10, 14,\n",
    "                       15, 16, 8, 11, 18, 10, 15, 9, 13, 15],\n",
    "}\n",
    "\n",
    "dataset_sales = pd.DataFrame(data)\n",
    "dataset_sales.head()"
   ]
  },
  {
   "cell_type": "code",
   "execution_count": 11,
   "id": "e9cd5b3d-6d29-4732-b285-ba0ba054ba32",
   "metadata": {},
   "outputs": [
    {
     "data": {
      "text/html": [
       "<div>\n",
       "<style scoped>\n",
       "    .dataframe tbody tr th:only-of-type {\n",
       "        vertical-align: middle;\n",
       "    }\n",
       "\n",
       "    .dataframe tbody tr th {\n",
       "        vertical-align: top;\n",
       "    }\n",
       "\n",
       "    .dataframe thead th {\n",
       "        text-align: right;\n",
       "    }\n",
       "</style>\n",
       "<table border=\"1\" class=\"dataframe\">\n",
       "  <thead>\n",
       "    <tr style=\"text-align: right;\">\n",
       "      <th></th>\n",
       "      <th>Sales Calls per Day</th>\n",
       "      <th>Sales per Week</th>\n",
       "    </tr>\n",
       "  </thead>\n",
       "  <tbody>\n",
       "    <tr>\n",
       "      <th>Sales Calls per Day</th>\n",
       "      <td>1.000000</td>\n",
       "      <td>0.979522</td>\n",
       "    </tr>\n",
       "    <tr>\n",
       "      <th>Sales per Week</th>\n",
       "      <td>0.979522</td>\n",
       "      <td>1.000000</td>\n",
       "    </tr>\n",
       "  </tbody>\n",
       "</table>\n",
       "</div>"
      ],
      "text/plain": [
       "                     Sales Calls per Day  Sales per Week\n",
       "Sales Calls per Day             1.000000        0.979522\n",
       "Sales per Week                  0.979522        1.000000"
      ]
     },
     "execution_count": 11,
     "metadata": {},
     "output_type": "execute_result"
    }
   ],
   "source": [
    "dataset_sales.corr(method=\"pearson\")"
   ]
  },
  {
   "cell_type": "markdown",
   "id": "a2f8b5d6-83dc-45b2-ad71-86b06e1cf92a",
   "metadata": {},
   "source": [
    "--------------------------------"
   ]
  },
  {
   "cell_type": "code",
   "execution_count": null,
   "id": "18579fca-5618-4dae-a91e-f28db016236c",
   "metadata": {},
   "outputs": [],
   "source": []
  }
 ],
 "metadata": {
  "kernelspec": {
   "display_name": "Python 3 (ipykernel)",
   "language": "python",
   "name": "python3"
  },
  "language_info": {
   "codemirror_mode": {
    "name": "ipython",
    "version": 3
   },
   "file_extension": ".py",
   "mimetype": "text/x-python",
   "name": "python",
   "nbconvert_exporter": "python",
   "pygments_lexer": "ipython3",
   "version": "3.10.8"
  }
 },
 "nbformat": 4,
 "nbformat_minor": 5
}
